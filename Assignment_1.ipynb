{
 "cells": [
  {
   "cell_type": "code",
   "execution_count": 2,
   "metadata": {},
   "outputs": [
    {
     "data": {
      "text/plain": [
       "'1. In the below elements which of them are values or an expression? eg:- values can be integer or string and expressions will be mathematical operators.'"
      ]
     },
     "execution_count": 2,
     "metadata": {},
     "output_type": "execute_result"
    }
   ],
   "source": [
    "\"\"\"1. In the below elements which of them are values or an expression? eg:- values can be integer or string and expressions will be mathematical operators.\"\"\""
   ]
  },
  {
   "cell_type": "code",
   "execution_count": 5,
   "metadata": {},
   "outputs": [
    {
     "data": {
      "text/plain": [
       "\"'hello' – Str Value\\n-87.8 – Float Value\\n-    - Expression\\n/   - Expression \\n+ - Expression\\n6 – int Value\""
      ]
     },
     "execution_count": 5,
     "metadata": {},
     "output_type": "execute_result"
    }
   ],
   "source": [
    "Ans -\n",
    "'hello' – Str Value\n",
    "-87.8 – Float Value\n",
    "-    - Expression\n",
    "/   - Expression \n",
    "+ - Expression\n",
    "6 – int Value\n"
   ]
  },
  {
   "cell_type": "code",
   "execution_count": null,
   "metadata": {},
   "outputs": [],
   "source": [
    "2. What is the difference between string and variable?"
   ]
  },
  {
   "cell_type": "code",
   "execution_count": null,
   "metadata": {},
   "outputs": [],
   "source": [
    "Ans- \n",
    "String\n",
    "String is a type of information you would store in variable \n",
    "Ex. X = “Hello World”\n",
    "“Hello world” is string\n",
    "\n",
    "Variable\n",
    "A Variable is a store of information\n",
    "X is variable where can store any type of information.\n"
   ]
  },
  {
   "cell_type": "code",
   "execution_count": null,
   "metadata": {},
   "outputs": [],
   "source": [
    "3. Describe three different data types."
   ]
  },
  {
   "cell_type": "code",
   "execution_count": null,
   "metadata": {},
   "outputs": [],
   "source": [
    "•\tInt  - To store in integer value for ex. A =10\n",
    "•\tFloat – Store floating point numbers for ex. B = 2.5\n",
    "•\tString – Used to represent text for Ex. C = “asdaf”\n",
    "•\tBoolean -If an expression is True and  False  for ex. Print(10>9)   O/P : True\n"
   ]
  },
  {
   "cell_type": "code",
   "execution_count": null,
   "metadata": {},
   "outputs": [],
   "source": [
    "4. What is an expression made up of? What do all expressions do?"
   ]
  },
  {
   "cell_type": "code",
   "execution_count": null,
   "metadata": {},
   "outputs": [],
   "source": [
    "Ans -\n",
    "    -An expression is a combination of values, variables, operators, and calls to functions.\n",
    "    -Expressions need to be evaluated. \n",
    "    -An expression is an instruction that combines values and operators and always evaluates down to a single value.\n"
   ]
  },
  {
   "cell_type": "code",
   "execution_count": null,
   "metadata": {},
   "outputs": [],
   "source": [
    "5. This assignment statements, like spam = 10. What is the difference between an expression and a statement?"
   ]
  },
  {
   "cell_type": "code",
   "execution_count": null,
   "metadata": {},
   "outputs": [],
   "source": [
    "Ans - A statement performs some action such as printing values, looping, or if statement. \n",
    "     On the other hand, expressions also produce values and we can assign these values to new variables.\n"
   ]
  },
  {
   "cell_type": "code",
   "execution_count": null,
   "metadata": {},
   "outputs": [],
   "source": [
    "6. After running the following code, what does the variable bacon contain?\n",
    "bacon = 22\n",
    "bacon + 1\n",
    "\n",
    "\n",
    "Ans – Variable bacon contain value 23.\n"
   ]
  },
  {
   "cell_type": "code",
   "execution_count": null,
   "metadata": {},
   "outputs": [],
   "source": [
    "7. What should the values of the following two terms be?\n",
    "Ans-\n",
    "        'spam' + 'spamspam' => ‘spamspamspam’\n",
    "        'spam' * 3    => ‘spamspamspam’\n"
   ]
  },
  {
   "cell_type": "code",
   "execution_count": null,
   "metadata": {},
   "outputs": [],
   "source": [
    "8. Why is eggs a valid variable name while 100 is invalid?\n",
    "\n",
    "Ans –  Eggs  - alphabets and alphanumeric can be variable name. \n",
    "        100  – Number cannot be variable name \n"
   ]
  },
  {
   "cell_type": "code",
   "execution_count": null,
   "metadata": {},
   "outputs": [],
   "source": [
    "9. What three functions can be used to get the integer, floating-point number, or string version of a value?\n",
    "Ans – \n",
    "int (), float (), str () functions can be used to get integer, floating-point no. and string.\n",
    "For ex. \n",
    "\t int(124) \n",
    "\tfloat(12.3)\n",
    "\tstr(“Hello”)\n"
   ]
  },
  {
   "cell_type": "code",
   "execution_count": null,
   "metadata": {},
   "outputs": [],
   "source": [
    "10. Why does this expression cause an error? How can you fix it?\n",
    "'I have eaten ' + 99 + ' burritos.'\n",
    "\n",
    "Ans – \n",
    "1.\tCan only concatenate str (not \"int\") to str and given statement contain \n",
    "both int and string  so this expression cause an error.\n",
    "2.\tWe can write in expression like \n",
    " 'I have eaten ' + '99' + ' burritos.'                        \n"
   ]
  }
 ],
 "metadata": {
  "kernelspec": {
   "display_name": "Python 3",
   "language": "python",
   "name": "python3"
  },
  "language_info": {
   "codemirror_mode": {
    "name": "ipython",
    "version": 3
   },
   "file_extension": ".py",
   "mimetype": "text/x-python",
   "name": "python",
   "nbconvert_exporter": "python",
   "pygments_lexer": "ipython3",
   "version": "3.8.5"
  }
 },
 "nbformat": 4,
 "nbformat_minor": 4
}
