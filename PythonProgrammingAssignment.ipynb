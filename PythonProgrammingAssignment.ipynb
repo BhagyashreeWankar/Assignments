{
 "cells": [
  {
   "cell_type": "code",
   "execution_count": 2,
   "metadata": {},
   "outputs": [
    {
     "name": "stdout",
     "output_type": "stream",
     "text": [
      "Hello Python\n"
     ]
    }
   ],
   "source": [
    "# Python program to print \"Hello Python\"\n",
    "print(\"Hello Python\")"
   ]
  },
  {
   "cell_type": "code",
   "execution_count": 9,
   "metadata": {},
   "outputs": [
    {
     "name": "stdout",
     "output_type": "stream",
     "text": [
      "Enter value of a30\n",
      "Enter value of b5\n",
      "Addition of two numbers : 35\n",
      "Division of two numbers: 6.0\n"
     ]
    }
   ],
   "source": [
    "# Python program to do arithmetical operations addition and division.\n",
    "a = input(\"Enter value of a\")\n",
    "b = input(\"Enter value of b\")\n",
    "print(\"Addition of two numbers :\",int(a)+int(b))\n",
    "print(\"Division of two numbers:\",float(a)/float(b))"
   ]
  },
  {
   "cell_type": "code",
   "execution_count": 2,
   "metadata": {},
   "outputs": [
    {
     "name": "stdout",
     "output_type": "stream",
     "text": [
      "Enter base10\n"
     ]
    }
   ],
   "source": [
    "b = input(\"Enter base\")"
   ]
  },
  {
   "cell_type": "code",
   "execution_count": 3,
   "metadata": {},
   "outputs": [
    {
     "name": "stdout",
     "output_type": "stream",
     "text": [
      "Enter base20\n",
      "Enter height13\n",
      "Area of triangle is: 130.0\n"
     ]
    }
   ],
   "source": [
    "#Write a Python program to find the area of a triangle?\n",
    "b = input(\"Enter base\")\n",
    "h = input(\"Enter height\")\n",
    "print(\"Area of triangle is:\",(0.5*float(b)*float(h)))"
   ]
  },
  {
   "cell_type": "code",
   "execution_count": 10,
   "metadata": {},
   "outputs": [
    {
     "name": "stdout",
     "output_type": "stream",
     "text": [
      "Enter value of p & q10 20\n",
      "After Swapping value of p & q 20 10\n"
     ]
    }
   ],
   "source": [
    "#Write a Python program to swap two variables?\n",
    "p , q = input(\"Enter value of p & q\").split()\n",
    "p,q = [int(p),int(q)]\n",
    "p = p+q\n",
    "q = p-q\n",
    "p = p-q\n",
    "print(\"After Swapping value of p & q\",p,q)\n"
   ]
  },
  {
   "cell_type": "code",
   "execution_count": 13,
   "metadata": {},
   "outputs": [
    {
     "name": "stdout",
     "output_type": "stream",
     "text": [
      "[20, 27, 25, 30, 17, 22, 24, 11, 7, 7, 27, 22, 30, 28, 9, 16, 18, 3, 26, 3, 29, 17, 21, 22, 26, 8, 2, 22, 21, 13]\n"
     ]
    }
   ],
   "source": [
    "#Write a Python program to generate a random number\n",
    "import random\n",
    "randomlist = []\n",
    "for i in range(0,30):\n",
    "    n = random.randint(1,30)\n",
    "    randomlist.append(n)\n",
    "print(randomlist)"
   ]
  },
  {
   "cell_type": "code",
   "execution_count": null,
   "metadata": {},
   "outputs": [],
   "source": []
  }
 ],
 "metadata": {
  "kernelspec": {
   "display_name": "Python 3",
   "language": "python",
   "name": "python3"
  },
  "language_info": {
   "codemirror_mode": {
    "name": "ipython",
    "version": 3
   },
   "file_extension": ".py",
   "mimetype": "text/x-python",
   "name": "python",
   "nbconvert_exporter": "python",
   "pygments_lexer": "ipython3",
   "version": "3.8.5"
  }
 },
 "nbformat": 4,
 "nbformat_minor": 4
}
