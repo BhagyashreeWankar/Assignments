{
 "cells": [
  {
   "cell_type": "markdown",
   "id": "04210192",
   "metadata": {},
   "source": [
    "### 1. Is the Python Standard Library included with PyInputPlus?"
   ]
  },
  {
   "cell_type": "markdown",
   "id": "c66af4b3",
   "metadata": {},
   "source": [
    "- No, PyInputPlus is an external python library which is used for taking the valid user inputs. It accepts the user input until the user enters valid input"
   ]
  },
  {
   "cell_type": "markdown",
   "id": "bafefd73",
   "metadata": {},
   "source": [
    "### 2. Why is PyInputPlus commonly imported with import pyinputplus as pypi?"
   ]
  },
  {
   "cell_type": "markdown",
   "id": "fa5570ad",
   "metadata": {},
   "source": [
    "- You can import the module with import pyinputplus as pypi so that you can enter a shorter name when calling the module's functions."
   ]
  },
  {
   "cell_type": "markdown",
   "id": "bc6b3fef",
   "metadata": {},
   "source": [
    "### 3.How do you distinguish between inputInt() and inputFloat()?"
   ]
  },
  {
   "cell_type": "markdown",
   "id": "3c7db36c",
   "metadata": {},
   "source": [
    " - The inputInt() function returns an integer, while the inputFloat() function returns a float value."
   ]
  },
  {
   "cell_type": "markdown",
   "id": "877f85e8",
   "metadata": {},
   "source": [
    "- The inputFloat() function returns an integer, while the inputInt() function returns a float."
   ]
  },
  {
   "cell_type": "markdown",
   "id": "62ef04bd",
   "metadata": {},
   "source": [
    "- There are no differences between the two"
   ]
  },
  {
   "cell_type": "markdown",
   "id": "67908450",
   "metadata": {},
   "source": [
    "- The inputInt() function returns an integer, while the inputFloat() function returns a string value."
   ]
  },
  {
   "cell_type": "markdown",
   "id": "eae57a5c",
   "metadata": {},
   "source": [
    "### 4. Using PyInputPlus, how do you ensure that the user enters a whole number between 0 and 99?"
   ]
  },
  {
   "cell_type": "code",
   "execution_count": 8,
   "id": "6abbcf54",
   "metadata": {},
   "outputs": [
    {
     "name": "stdout",
     "output_type": "stream",
     "text": [
      "10\n",
      "12\n"
     ]
    },
    {
     "data": {
      "text/plain": [
       "12.0"
      ]
     },
     "execution_count": 8,
     "metadata": {},
     "output_type": "execute_result"
    }
   ],
   "source": [
    "import pyinputplus as pyip\n",
    "pyip.inputInt()\n",
    "pyip.inputFloat()"
   ]
  },
  {
   "cell_type": "code",
   "execution_count": 12,
   "id": "90d9bbe3",
   "metadata": {},
   "outputs": [
    {
     "name": "stdout",
     "output_type": "stream",
     "text": [
      "15\n"
     ]
    },
    {
     "data": {
      "text/plain": [
       "15"
      ]
     },
     "execution_count": 12,
     "metadata": {},
     "output_type": "execute_result"
    }
   ],
   "source": [
    "pyip.inputInt(min = 0, max =99)"
   ]
  },
  {
   "cell_type": "markdown",
   "id": "d50a3529",
   "metadata": {},
   "source": [
    "### 5 . What is transferred to the keyword arguments allowRegexes and blockRegexes?"
   ]
  },
  {
   "cell_type": "markdown",
   "id": "91640160",
   "metadata": {},
   "source": [
    "Ans - We can also use regular expressions to specify whether an input is allowed or not. The allowRegexes and blockRegexes keyword arguments take a list of regular expression strings to determine what the PyInputPlus function will accept or reject as valid input."
   ]
  },
  {
   "cell_type": "code",
   "execution_count": null,
   "id": "28f9e1b0",
   "metadata": {},
   "outputs": [],
   "source": [
    "res = pypi.inputNum(allowRegexes=[r'(I|V|X|L|C|D|M)+',r'zero']) "
   ]
  },
  {
   "cell_type": "code",
   "execution_count": null,
   "id": "1e4c5238",
   "metadata": {},
   "outputs": [],
   "source": [
    "res = pyip.inputNum(blockRegexes=[r'[02468]$'])# blocks the even numbers"
   ]
  },
  {
   "cell_type": "markdown",
   "id": "662bb929",
   "metadata": {},
   "source": [
    "### 6. If a blank input is entered three times, what does inputStr(limit=3) do?"
   ]
  },
  {
   "cell_type": "markdown",
   "id": "8ea799ed",
   "metadata": {},
   "source": [
    "Ans - inputStr() raises a TimeoutException exception. If the user answers incorrectly more than 3 times, it raises a RetryLimitException exception."
   ]
  },
  {
   "cell_type": "code",
   "execution_count": null,
   "id": "36a3f4c8",
   "metadata": {},
   "outputs": [],
   "source": [
    "res = pypi.inputStr(limit=3)"
   ]
  },
  {
   "cell_type": "markdown",
   "id": "927985d7",
   "metadata": {},
   "source": [
    "### 7. If blank input is entered three times, what does inputStr(limit=3, default=&#39;hello&#39;) do?"
   ]
  },
  {
   "cell_type": "markdown",
   "id": "e6dafbc8",
   "metadata": {},
   "source": [
    "res = pypi.inputStr(limit=3,default='hello')\n",
    "- When you use limit keyword arguments and also pass a default keyword argument, the function returns the default value instead of raising an exception"
   ]
  }
 ],
 "metadata": {
  "kernelspec": {
   "display_name": "Python 3",
   "language": "python",
   "name": "python3"
  },
  "language_info": {
   "codemirror_mode": {
    "name": "ipython",
    "version": 3
   },
   "file_extension": ".py",
   "mimetype": "text/x-python",
   "name": "python",
   "nbconvert_exporter": "python",
   "pygments_lexer": "ipython3",
   "version": "3.8.8"
  }
 },
 "nbformat": 4,
 "nbformat_minor": 5
}
