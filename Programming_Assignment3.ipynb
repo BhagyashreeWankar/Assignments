{
 "cells": [
  {
   "cell_type": "code",
   "execution_count": null,
   "metadata": {},
   "outputs": [],
   "source": [
    "1.Write a Python Program to Check if a Number is Positive, Negative or Zero?"
   ]
  },
  {
   "cell_type": "code",
   "execution_count": 5,
   "metadata": {},
   "outputs": [
    {
     "name": "stdout",
     "output_type": "stream",
     "text": [
      "Enter Any no.-14\n",
      "Negative No.\n"
     ]
    }
   ],
   "source": [
    "num = int(input(\"Enter Any no.\"))\n",
    "if num > 0 :\n",
    "    print(\"Positive No.\")\n",
    "elif num < 0 :\n",
    "    print(\"Negative No.\")\n",
    "else:\n",
    "    print(\"Zero No.\")"
   ]
  },
  {
   "cell_type": "code",
   "execution_count": null,
   "metadata": {},
   "outputs": [],
   "source": [
    "2.  Write a Python Program to Check if a Number is Odd or Even?"
   ]
  },
  {
   "cell_type": "code",
   "execution_count": 8,
   "metadata": {},
   "outputs": [
    {
     "name": "stdout",
     "output_type": "stream",
     "text": [
      "Enter Any no.13\n",
      "No. is Odd\n"
     ]
    }
   ],
   "source": [
    "n = int(input(\"Enter Any no.\"))\n",
    "if(n%2 == 0) :\n",
    "    print(\"No. is Even\")\n",
    "else:\n",
    "    print(\"No. is Odd\")"
   ]
  },
  {
   "cell_type": "code",
   "execution_count": null,
   "metadata": {},
   "outputs": [],
   "source": [
    "3.Write a Python Program to Check Leap Year?"
   ]
  },
  {
   "cell_type": "code",
   "execution_count": 22,
   "metadata": {},
   "outputs": [
    {
     "name": "stdout",
     "output_type": "stream",
     "text": [
      "Enter Year2015\n",
      "2015 is not Leap year\n"
     ]
    }
   ],
   "source": [
    "year = int(input(\"Enter Year\"))\n",
    "if(year%4 == 0) :\n",
    "    if(year%100 == 0):\n",
    "        if(year%400 == 0):\n",
    "            print(\"{0} is Leap year\".format(year))\n",
    "        else:\n",
    "            print(\"{0} is not Leap year\".format(year))\n",
    "    else:\n",
    "        print(\"{0} is Leap year\".format(year))\n",
    "else:\n",
    "    print(\"{0} is not Leap year\".format(year))\n"
   ]
  },
  {
   "cell_type": "code",
   "execution_count": null,
   "metadata": {},
   "outputs": [],
   "source": [
    "4.Write a Python Program to Check Prime Number?"
   ]
  },
  {
   "cell_type": "code",
   "execution_count": 4,
   "metadata": {},
   "outputs": [
    {
     "name": "stdout",
     "output_type": "stream",
     "text": [
      "Enter any number13\n",
      "13 is Prime no\n"
     ]
    }
   ],
   "source": [
    "number = int(input(\"Enter any number\"))\n",
    "if(number > 1):\n",
    "    for i in range(2,number):\n",
    "        if(number%i == 0):\n",
    "            print(number,\"Not Prime no.\")\n",
    "            break\n",
    "        else:\n",
    "            print(number,\"is Prime no\")\n",
    "            break\n",
    "else:\n",
    "    print(number,\"Not Prime no\")          "
   ]
  },
  {
   "cell_type": "code",
   "execution_count": null,
   "metadata": {},
   "outputs": [],
   "source": [
    "5. Write a Python Program to Print all Prime Numbers in an Interval of 1-10000?"
   ]
  },
  {
   "cell_type": "code",
   "execution_count": 26,
   "metadata": {},
   "outputs": [
    {
     "name": "stdout",
     "output_type": "stream",
     "text": [
      "Enter range:30\n",
      "Prime numbers: 1 2 3 5 7 11 13 17 19 23 29 "
     ]
    }
   ],
   "source": [
    "numr=int(input(\"Enter range:\"))\n",
    "print(\"Prime numbers:\",end=' ')\n",
    "\n",
    "for n in range(1,numr):\n",
    "    for i in range(2,n):\n",
    "        if(n%i==0):\n",
    "            break\n",
    "    else:\n",
    "        print(n,end=' ')        "
   ]
  },
  {
   "cell_type": "code",
   "execution_count": null,
   "metadata": {},
   "outputs": [],
   "source": []
  }
 ],
 "metadata": {
  "kernelspec": {
   "display_name": "Python 3",
   "language": "python",
   "name": "python3"
  },
  "language_info": {
   "codemirror_mode": {
    "name": "ipython",
    "version": 3
   },
   "file_extension": ".py",
   "mimetype": "text/x-python",
   "name": "python",
   "nbconvert_exporter": "python",
   "pygments_lexer": "ipython3",
   "version": "3.8.5"
  }
 },
 "nbformat": 4,
 "nbformat_minor": 4
}
