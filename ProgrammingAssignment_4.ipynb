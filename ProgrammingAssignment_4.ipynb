{
 "cells": [
  {
   "cell_type": "code",
   "execution_count": null,
   "metadata": {},
   "outputs": [],
   "source": [
    "1. Write a Python Program to Find the Factorial of a Number?"
   ]
  },
  {
   "cell_type": "code",
   "execution_count": 4,
   "metadata": {},
   "outputs": [
    {
     "name": "stdout",
     "output_type": "stream",
     "text": [
      "Enter any no.4\n",
      "Factorial of 4 is: 24\n"
     ]
    }
   ],
   "source": [
    "num = int(input(\"Enter any no.\"))\n",
    "fac = 1\n",
    "for i in range(1,num+1):\n",
    "    fac = fac * i\n",
    "    \n",
    "print(\"Factorial of\",num,\"is:\",fac)"
   ]
  },
  {
   "cell_type": "code",
   "execution_count": null,
   "metadata": {},
   "outputs": [],
   "source": [
    "2. Write a Python Program to Display the multiplication Table?"
   ]
  },
  {
   "cell_type": "code",
   "execution_count": 7,
   "metadata": {},
   "outputs": [
    {
     "name": "stdout",
     "output_type": "stream",
     "text": [
      "Enter any no2\n",
      "Table 2 is: 2\n",
      "Table 2 is: 4\n",
      "Table 2 is: 6\n",
      "Table 2 is: 8\n",
      "Table 2 is: 10\n",
      "Table 2 is: 12\n",
      "Table 2 is: 14\n",
      "Table 2 is: 16\n",
      "Table 2 is: 18\n",
      "Table 2 is: 20\n"
     ]
    }
   ],
   "source": [
    "num1 = int(input(\"Enter any no\"))\n",
    "for i in range(1,11):\n",
    "    mul = num1 * i\n",
    "    print(\"Table\",num1,\"is:\",mul)"
   ]
  },
  {
   "cell_type": "code",
   "execution_count": null,
   "metadata": {},
   "outputs": [],
   "source": [
    "3.Write a Python Program to Print the Fibonacci sequence?"
   ]
  },
  {
   "cell_type": "code",
   "execution_count": 17,
   "metadata": {},
   "outputs": [
    {
     "name": "stdout",
     "output_type": "stream",
     "text": [
      "Enter the value of 'n': 6\n",
      "Fibonacci Series:  0 1 1 2 3 5 "
     ]
    }
   ],
   "source": [
    "n = int(input(\"Enter the value of 'n': \"))\n",
    "a = 0\n",
    "b = 1\n",
    "sum = 0\n",
    "count = 1\n",
    "print(\"Fibonacci Series: \", end = \" \")\n",
    "while(count <= n):\n",
    "  print(sum, end = \" \")\n",
    "  count += 1\n",
    "  a = b\n",
    "  b = sum\n",
    "  sum = a + b"
   ]
  },
  {
   "cell_type": "code",
   "execution_count": null,
   "metadata": {},
   "outputs": [],
   "source": [
    "4. Write a Python Program to Check Armstrong Number?"
   ]
  },
  {
   "cell_type": "code",
   "execution_count": 3,
   "metadata": {},
   "outputs": [
    {
     "name": "stdout",
     "output_type": "stream",
     "text": [
      "Enter Any no.153\n",
      "Armstrong no\n"
     ]
    }
   ],
   "source": [
    "num = int(input(\"Enter Any no.\"))\n",
    "sum=0\n",
    "temp=num\n",
    "\n",
    "while temp>0:\n",
    "    digit=temp%10\n",
    "    sum=sum+(digit**3)\n",
    "    temp//=10\n",
    "    \n",
    "if(num==sum):\n",
    "    print(\"Armstrong no\")\n",
    "else:\n",
    "    print(\"Not armstrong no\")"
   ]
  },
  {
   "cell_type": "code",
   "execution_count": null,
   "metadata": {},
   "outputs": [],
   "source": [
    "5. Write a Python Program to Find Armstrong Number in an Interval?"
   ]
  },
  {
   "cell_type": "code",
   "execution_count": 10,
   "metadata": {},
   "outputs": [
    {
     "name": "stdout",
     "output_type": "stream",
     "text": [
      "Enter Lower No.100\n",
      "Enter Higher No.1000\n",
      "153\n",
      "370\n",
      "371\n",
      "407\n"
     ]
    }
   ],
   "source": [
    "Lower = int(input(\"Enter Lower No.\"))\n",
    "upper = int(input(\"Enter Higher No.\"))\n",
    "\n",
    "for i in range(Lower,upper):\n",
    "    s=0\n",
    "    tem = i\n",
    "    while tem>0:\n",
    "        d=tem%10\n",
    "        s+=d**3\n",
    "        tem//=10\n",
    "        \n",
    "    if i==s:\n",
    "       print(i)"
   ]
  },
  {
   "cell_type": "code",
   "execution_count": null,
   "metadata": {},
   "outputs": [],
   "source": [
    "6. Write a Python Program to Find the Sum of Natural Numbers?"
   ]
  },
  {
   "cell_type": "code",
   "execution_count": 11,
   "metadata": {},
   "outputs": [
    {
     "name": "stdout",
     "output_type": "stream",
     "text": [
      "Enter any no10\n",
      "Sum is: 55\n"
     ]
    }
   ],
   "source": [
    "number = int(input(\"Enter any no\"))\n",
    "sum=0\n",
    "if(number<0):\n",
    "    print(\"Enter Valid No.\")\n",
    "else:\n",
    "    while(number>0):\n",
    "        sum+=number\n",
    "        number-=1\n",
    "    print(\"Sum is:\",sum)        "
   ]
  }
 ],
 "metadata": {
  "kernelspec": {
   "display_name": "Python 3",
   "language": "python",
   "name": "python3"
  },
  "language_info": {
   "codemirror_mode": {
    "name": "ipython",
    "version": 3
   },
   "file_extension": ".py",
   "mimetype": "text/x-python",
   "name": "python",
   "nbconvert_exporter": "python",
   "pygments_lexer": "ipython3",
   "version": "3.8.5"
  }
 },
 "nbformat": 4,
 "nbformat_minor": 4
}
